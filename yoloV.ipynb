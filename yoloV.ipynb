{
  "nbformat": 4,
  "nbformat_minor": 0,
  "metadata": {
    "colab": {
      "name": "yoloV.ipynb",
      "provenance": []
    },
    "kernelspec": {
      "name": "python3",
      "display_name": "Python 3"
    },
    "language_info": {
      "name": "python"
    },
    "accelerator": "GPU"
  },
  "cells": [
    {
      "cell_type": "code",
      "metadata": {
        "colab": {
          "base_uri": "https://localhost:8080/"
        },
        "id": "XmhfjqAnpMkm",
        "outputId": "4f38c565-3501-4d5e-be35-ba59777c4557"
      },
      "source": [
        "!nvidia-smi\n"
      ],
      "execution_count": null,
      "outputs": [
        {
          "output_type": "stream",
          "text": [
            "Tue Mar 30 16:32:32 2021       \n",
            "+-----------------------------------------------------------------------------+\n",
            "| NVIDIA-SMI 460.56       Driver Version: 460.32.03    CUDA Version: 11.2     |\n",
            "|-------------------------------+----------------------+----------------------+\n",
            "| GPU  Name        Persistence-M| Bus-Id        Disp.A | Volatile Uncorr. ECC |\n",
            "| Fan  Temp  Perf  Pwr:Usage/Cap|         Memory-Usage | GPU-Util  Compute M. |\n",
            "|                               |                      |               MIG M. |\n",
            "|===============================+======================+======================|\n",
            "|   0  Tesla T4            Off  | 00000000:00:04.0 Off |                    0 |\n",
            "| N/A   37C    P8     9W /  70W |      0MiB / 15109MiB |      0%      Default |\n",
            "|                               |                      |                  N/A |\n",
            "+-------------------------------+----------------------+----------------------+\n",
            "                                                                               \n",
            "+-----------------------------------------------------------------------------+\n",
            "| Processes:                                                                  |\n",
            "|  GPU   GI   CI        PID   Type   Process name                  GPU Memory |\n",
            "|        ID   ID                                                   Usage      |\n",
            "|=============================================================================|\n",
            "|  No running processes found                                                 |\n",
            "+-----------------------------------------------------------------------------+\n"
          ],
          "name": "stdout"
        }
      ]
    },
    {
      "cell_type": "code",
      "metadata": {
        "id": "bZGrOm2rpk3c"
      },
      "source": [
        "from google.colab import drive\n",
        "drive.mount('/content/gdrive')\n",
        "!ln -s /content/gdrive/My\\ Drive/ /mydrive\n",
        "!ls /mydrive\n"
      ],
      "execution_count": null,
      "outputs": []
    },
    {
      "cell_type": "code",
      "metadata": {
        "id": "xGQDmY0epk5m"
      },
      "source": [
        "!git clone https://github.com/AlexeyAB/darknet"
      ],
      "execution_count": null,
      "outputs": []
    },
    {
      "cell_type": "code",
      "metadata": {
        "colab": {
          "base_uri": "https://localhost:8080/"
        },
        "id": "rCMHw9ogpk7U",
        "outputId": "d4408cc2-1a07-4a1a-841b-645b5f3c9a9b"
      },
      "source": [
        "%cd darknet\n",
        "!sed -i 's/OPENCV=0/OPENCV=1/' Makefile\n",
        "!sed -i 's/GPU=0/GPU=1/' Makefile\n",
        "!sed -i 's/CUDNN=0/CUDNN=1/' Makefile\n"
      ],
      "execution_count": null,
      "outputs": [
        {
          "output_type": "stream",
          "text": [
            "/content/darknet\n"
          ],
          "name": "stdout"
        }
      ]
    },
    {
      "cell_type": "code",
      "metadata": {
        "id": "QXWhS37dpk9H"
      },
      "source": [
        "!make\n"
      ],
      "execution_count": null,
      "outputs": []
    },
    {
      "cell_type": "code",
      "metadata": {
        "id": "tLXRe_cvpk-0"
      },
      "source": [
        "!cp cfg/yolov3.cfg cfg/yolov3_training.cfg"
      ],
      "execution_count": null,
      "outputs": []
    },
    {
      "cell_type": "code",
      "metadata": {
        "id": "Q0uV8XWLplAg"
      },
      "source": [
        "!sed -i 's/batch=1/batch=64/' cfg/yolov3_training.cfg\n",
        "!sed -i 's/subdivisions=1/subdivisions=16/' cfg/yolov3_training.cfg\n",
        "!sed -i 's/max_batches = 500200/max_batches = 6000/' cfg/yolov3_training.cfg\n",
        "!sed -i '610 s@classes=80@classes=3@' cfg/yolov3_training.cfg\n",
        "!sed -i '696 s@classes=80@classes=3@' cfg/yolov3_training.cfg\n",
        "!sed -i '783 s@classes=80@classes=3@' cfg/yolov3_training.cfg\n",
        "!sed -i '603 s@filters=255@filters=24@' cfg/yolov3_training.cfg\n",
        "!sed -i '689 s@filters=255@filters=24@' cfg/yolov3_training.cfg\n",
        "!sed -i '776 s@filters=255@filters=24@' cfg/yolov3_training.cfg"
      ],
      "execution_count": null,
      "outputs": []
    },
    {
      "cell_type": "code",
      "metadata": {
        "id": "B3q8YORqplCT"
      },
      "source": [
        "!echo -e 'Wearing Mask\\n2nd item\\n3rd item' > data/obj.names\n",
        "!echo -e 'classes= 3\\ntrain  = data/train.txt\\nvalid  = data/test.txt\\nnames = data/obj.names\\nbackup = /mydrive/yolov3' > data/obj.data"
      ],
      "execution_count": null,
      "outputs": []
    },
    {
      "cell_type": "code",
      "metadata": {
        "id": "oDcJpCjlq6xb"
      },
      "source": [
        "!cp cfg/yolov3_training.cfg /content/gdrive/MyDrive/yolov3/yolov3_testing.cfg\n",
        "!cp data/obj.names /content/gdrive/MyDrive/yolov3/classes.txt"
      ],
      "execution_count": null,
      "outputs": []
    },
    {
      "cell_type": "code",
      "metadata": {
        "colab": {
          "base_uri": "https://localhost:8080/"
        },
        "id": "kh3mpB1qq67C",
        "outputId": "95d3a7e7-2810-4357-a82c-04b3172b33e6"
      },
      "source": [
        "!mkdir data/obj\n",
        "!unzip /content/gdrive/MyDrive/yolov3/images.zip -d data/obj"
      ],
      "execution_count": null,
      "outputs": [
        {
          "output_type": "stream",
          "text": [
            "mkdir: cannot create directory ‘data/obj’: File exists\n",
            "Archive:  /content/gdrive/MyDrive/yolov3/images.zip\n",
            "replace data/obj/train/-1x-1_jpg.rf.69d9b61e3cdb8a9047dad25099fcc8ef.jpg? [y]es, [n]o, [A]ll, [N]one, [r]ename: A\n",
            "  inflating: data/obj/train/-1x-1_jpg.rf.69d9b61e3cdb8a9047dad25099fcc8ef.jpg  \n",
            "  inflating: data/obj/train/-1x-1_jpg.rf.69d9b61e3cdb8a9047dad25099fcc8ef.txt  \n",
            "  inflating: data/obj/train/-I1-MS09uaqsLdGTFkgnS0Rcg1mmPyAj95ySg_eckoM_jpeg.rf.b60002517c9371bba207314a49452cf1.jpg  \n",
            "  inflating: data/obj/train/-I1-MS09uaqsLdGTFkgnS0Rcg1mmPyAj95ySg_eckoM_jpeg.rf.b60002517c9371bba207314a49452cf1.txt  \n",
            "  inflating: data/obj/train/0002526673_jpg.rf.a13de6faa0e2e5250d913ccf27b4c769.jpg  \n",
            "  inflating: data/obj/train/0002526673_jpg.rf.a13de6faa0e2e5250d913ccf27b4c769.txt  \n",
            "  inflating: data/obj/train/000b7b75-1600_jpg.rf.35b739ea6899972b07aab7225d341307.jpg  \n",
            "  inflating: data/obj/train/000b7b75-1600_jpg.rf.35b739ea6899972b07aab7225d341307.txt  \n",
            "  inflating: data/obj/train/000_1ov3n5_0_jpeg.rf.edad89426b118f4c76ba4ae3790b3f31.jpg  \n",
            "  inflating: data/obj/train/000_1ov3n5_0_jpeg.rf.edad89426b118f4c76ba4ae3790b3f31.txt  \n",
            "  inflating: data/obj/train/001_1024_jpeg.rf.82de51e9c6db87b2941a34e6c65de14a.jpg  \n",
            "  inflating: data/obj/train/001_1024_jpeg.rf.82de51e9c6db87b2941a34e6c65de14a.txt  \n",
            "  inflating: data/obj/train/003_1024_jpeg.rf.3d3235de8495eb432dc3c54d17287980.jpg  \n",
            "  inflating: data/obj/train/003_1024_jpeg.rf.3d3235de8495eb432dc3c54d17287980.txt  \n",
            "  inflating: data/obj/train/004_1024_jpeg.rf.8387cade019b2c139de783457af677ae.jpg  \n",
            "  inflating: data/obj/train/004_1024_jpeg.rf.8387cade019b2c139de783457af677ae.txt  \n",
            "  inflating: data/obj/train/012106_jpg_1140x855_jpg.rf.b2002b96c6972613f93d98f69f0efdee.jpg  \n",
            "  inflating: data/obj/train/012106_jpg_1140x855_jpg.rf.b2002b96c6972613f93d98f69f0efdee.txt  \n",
            "  inflating: data/obj/train/012420_coronoa_masks_web_jpg.rf.aa87c46891116535f04447105006c814.jpg  \n",
            "  inflating: data/obj/train/012420_coronoa_masks_web_jpg.rf.aa87c46891116535f04447105006c814.txt  \n",
            "  inflating: data/obj/train/0200b38c89b16c37c5de8e247bb00c2f_jpg.rf.4868c78878c91c2c7cc7062e90de7658.jpg  \n",
            "  inflating: data/obj/train/0200b38c89b16c37c5de8e247bb00c2f_jpg.rf.4868c78878c91c2c7cc7062e90de7658.txt  \n",
            "  inflating: data/obj/train/0209-00176-076b1_jpg.rf.c95d18e12451276a0312e27c9389ef4c.jpg  \n",
            "  inflating: data/obj/train/0209-00176-076b1_jpg.rf.c95d18e12451276a0312e27c9389ef4c.txt  \n",
            "  inflating: data/obj/train/0450908675_50159485_mutation-virus-chine-inquietude_jpg.rf.9c1d5309c1b4ecea3fda137b207462df.jpg  \n",
            "  inflating: data/obj/train/0450908675_50159485_mutation-virus-chine-inquietude_jpg.rf.9c1d5309c1b4ecea3fda137b207462df.txt  \n",
            "  inflating: data/obj/train/0602623232127-web-tete_jpg.rf.52602cb4d68c74a35808c767926ab622.jpg  \n",
            "  inflating: data/obj/train/0602623232127-web-tete_jpg.rf.52602cb4d68c74a35808c767926ab622.txt  \n",
            "  inflating: data/obj/train/0_10725_jpg.rf.cde494b05911f991c3cc31c8670044b9.jpg  \n",
            "  inflating: data/obj/train/0_10725_jpg.rf.cde494b05911f991c3cc31c8670044b9.txt  \n",
            "  inflating: data/obj/train/0_8w7mkX-PHcfMM5s6_jpeg.rf.039eb72a4757882968537a6ae94d198f.jpg  \n",
            "  inflating: data/obj/train/0_8w7mkX-PHcfMM5s6_jpeg.rf.039eb72a4757882968537a6ae94d198f.txt  \n",
            "  inflating: data/obj/train/1-200102094256105_png.rf.d2ed0c139e4e35ee8889a3a8379348fb.jpg  \n",
            "  inflating: data/obj/train/1-200102094256105_png.rf.d2ed0c139e4e35ee8889a3a8379348fb.txt  \n",
            "  inflating: data/obj/train/1000x-1_jpg.rf.8ec74a748fd78ac625bf40b9cc3f276d.jpg  \n",
            "  inflating: data/obj/train/1000x-1_jpg.rf.8ec74a748fd78ac625bf40b9cc3f276d.txt  \n",
            "  inflating: data/obj/train/101d6660a8974050b613dd2e6bd59390_jpg.rf.52e1b68968d7307fab23c6bf5fc3cbbe.jpg  \n",
            "  inflating: data/obj/train/101d6660a8974050b613dd2e6bd59390_jpg.rf.52e1b68968d7307fab23c6bf5fc3cbbe.txt  \n",
            "  inflating: data/obj/train/1024x576_939430607723_jpg.rf.37f5013ec76b10fb64a6d8623a22ab92.jpg  \n",
            "  inflating: data/obj/train/1024x576_939430607723_jpg.rf.37f5013ec76b10fb64a6d8623a22ab92.txt  \n",
            "  inflating: data/obj/train/1024x737_09186876046_jpg.rf.4197293e6ba3db18b6fbb185616dab6c.jpg  \n",
            "  inflating: data/obj/train/1024x737_09186876046_jpg.rf.4197293e6ba3db18b6fbb185616dab6c.txt  \n",
            "  inflating: data/obj/train/1029731146_jpg.rf.79ab2cda85860fd020cfdc660f6368ec.jpg  \n",
            "  inflating: data/obj/train/1029731146_jpg.rf.79ab2cda85860fd020cfdc660f6368ec.txt  \n",
            "  inflating: data/obj/train/1030611863_jpg.rf.7edae200febe5a5160fede9478f3e591.jpg  \n",
            "  inflating: data/obj/train/1030611863_jpg.rf.7edae200febe5a5160fede9478f3e591.txt  \n",
            "  inflating: data/obj/train/1042977068_jpg.rf.ee48a69fd6f710987596e8fdd2eea713.jpg  \n",
            "  inflating: data/obj/train/1042977068_jpg.rf.ee48a69fd6f710987596e8fdd2eea713.txt  \n",
            "  inflating: data/obj/train/1125506397_15801322206131n_jpg.rf.0a60284a71b2d0ed77c002e768b39b00.jpg  \n",
            "  inflating: data/obj/train/1125506397_15801322206131n_jpg.rf.0a60284a71b2d0ed77c002e768b39b00.txt  \n",
            "  inflating: data/obj/train/1125506397_15801322207071n_jpg.rf.28329b8b808690e5537d9bde5b8a0d91.jpg  \n",
            "  inflating: data/obj/train/1125506397_15801322207071n_jpg.rf.28329b8b808690e5537d9bde5b8a0d91.txt  \n",
            "  inflating: data/obj/train/1125506397_15801322207531n_jpg.rf.e14312be41c570c14c752fd250256aa3.jpg  \n",
            "  inflating: data/obj/train/1125506397_15801322207531n_jpg.rf.e14312be41c570c14c752fd250256aa3.txt  \n",
            "  inflating: data/obj/train/1133x768_20200130000023_jpg.rf.e8a099312aa174af48c5914c4986f91a.jpg  \n",
            "  inflating: data/obj/train/1133x768_20200130000023_jpg.rf.e8a099312aa174af48c5914c4986f91a.txt  \n",
            "  inflating: data/obj/train/1140-travelers-at-hong-kong-airport_jpg.rf.4dac1dff15755783b3941a24fcdd12ae.jpg  \n",
            "  inflating: data/obj/train/1140-travelers-at-hong-kong-airport_jpg.rf.4dac1dff15755783b3941a24fcdd12ae.txt  \n",
            "  inflating: data/obj/train/1152x768_246964803156_jpg.rf.93e4584edd0a741914cf795c2087200d.jpg  \n",
            "  inflating: data/obj/train/1152x768_246964803156_jpg.rf.93e4584edd0a741914cf795c2087200d.txt  \n",
            "  inflating: data/obj/train/1155x768_20200129000089_jpg.rf.73137126ad09e8cf09315eb31ea51592.jpg  \n",
            "  inflating: data/obj/train/1155x768_20200129000089_jpg.rf.73137126ad09e8cf09315eb31ea51592.txt  \n",
            "  inflating: data/obj/train/11893820-3x2-xlarge_jpg.rf.1529b09bfee7d069f677ff513f6249eb.jpg  \n",
            "  inflating: data/obj/train/11893820-3x2-xlarge_jpg.rf.1529b09bfee7d069f677ff513f6249eb.txt  \n",
            "  inflating: data/obj/train/1249493_jpg.rf.0bab72e6f8295a2ba03052383e7c3b7b.jpg  \n",
            "  inflating: data/obj/train/1249493_jpg.rf.0bab72e6f8295a2ba03052383e7c3b7b.txt  \n",
            "  inflating: data/obj/train/125895-untitled-design-30_jpg.rf.ac571fc87624d715f65c707a55fb6bc8.jpg  \n",
            "  inflating: data/obj/train/125895-untitled-design-30_jpg.rf.ac571fc87624d715f65c707a55fb6bc8.txt  \n",
            "  inflating: data/obj/train/1288788-une-employee-aide-des-voyageurs-en-provenance-de-chine-le-26-janvier-2020-a-l-aeroport-de-roissy_jpg.rf.d47cf1cb16e3f73965871b18e510cf8b.jpg  \n",
            "  inflating: data/obj/train/1288788-une-employee-aide-des-voyageurs-en-provenance-de-chine-le-26-janvier-2020-a-l-aeroport-de-roissy_jpg.rf.d47cf1cb16e3f73965871b18e510cf8b.txt  \n",
            "  inflating: data/obj/train/1303078448-China-Coronavirus-Death-Toll-Hits-304_jpg.rf.867ecfe8a19d95c4f6a3a59f0bcc963e.jpg  \n",
            "  inflating: data/obj/train/1303078448-China-Coronavirus-Death-Toll-Hits-304_jpg.rf.867ecfe8a19d95c4f6a3a59f0bcc963e.txt  \n",
            "  inflating: data/obj/train/130624011830-malaysia-smog-students-horizontal-large-gallery_jpg.rf.1d1478ec7b2667aa240401f636d513c4.jpg  \n",
            "  inflating: data/obj/train/130624011830-malaysia-smog-students-horizontal-large-gallery_jpg.rf.1d1478ec7b2667aa240401f636d513c4.txt  \n",
            "  inflating: data/obj/train/135e-huxwryw6451820_jpg.rf.7119d8f128c2493e3340654b03e2b6e3.jpg  \n",
            "  inflating: data/obj/train/135e-huxwryw6451820_jpg.rf.7119d8f128c2493e3340654b03e2b6e3.txt  \n",
            "  inflating: data/obj/train/1422808187-3291816118_jpg.rf.c4f6e44a8611a820f164374b8cc11c17.jpg  \n",
            "  inflating: data/obj/train/1422808187-3291816118_jpg.rf.c4f6e44a8611a820f164374b8cc11c17.txt  \n",
            "  inflating: data/obj/train/1477443223-1445746883_jpg.rf.c73a19f37296ace6c3cd12ba54eec28a.jpg  \n",
            "  inflating: data/obj/train/1477443223-1445746883_jpg.rf.c73a19f37296ace6c3cd12ba54eec28a.txt  \n",
            "  inflating: data/obj/train/1482202839575_jpg.rf.96a5e5e802e33ad574636b271b779c99.jpg  \n",
            "  inflating: data/obj/train/1482202839575_jpg.rf.96a5e5e802e33ad574636b271b779c99.txt  \n",
            "  inflating: data/obj/train/15-08608-001_jpg.rf.b6002e422a9fa0b261b1c038574326d8.jpg  \n",
            "  inflating: data/obj/train/15-08608-001_jpg.rf.b6002e422a9fa0b261b1c038574326d8.txt  \n",
            "  inflating: data/obj/train/1539151332674193npsrq70_jpg.rf.e5f5500c15efd9f28d6bb2536dbba4fe.jpg  \n",
            "  inflating: data/obj/train/1539151332674193npsrq70_jpg.rf.e5f5500c15efd9f28d6bb2536dbba4fe.txt  \n",
            "  inflating: data/obj/train/1553605632_9d5877d8_60_jpg.rf.dac19d9ceded61285f48c70d285f0f49.jpg  \n",
            "  inflating: data/obj/train/1553605632_9d5877d8_60_jpg.rf.dac19d9ceded61285f48c70d285f0f49.txt  \n",
            "  inflating: data/obj/train/1579683152-0e3ba5698b090c0fda95caa5d2aa7b31_jpg.rf.3c5a6909252cc8ad7538ddb3b6a8c10d.jpg  \n",
            "  inflating: data/obj/train/1579683152-0e3ba5698b090c0fda95caa5d2aa7b31_jpg.rf.3c5a6909252cc8ad7538ddb3b6a8c10d.txt  \n",
            "  inflating: data/obj/train/1579928067_250120120154270000005e2bca03bf464_jpg.rf.8f9bd39325ed77b8f7d31f4847f1f2bb.jpg  \n",
            "  inflating: data/obj/train/1579928067_250120120154270000005e2bca03bf464_jpg.rf.8f9bd39325ed77b8f7d31f4847f1f2bb.txt  \n",
            "  inflating: data/obj/train/1580048340614_jpg.rf.83b5517bbfbf2e2ac0b103bec1bd4dfd.jpg  \n",
            "  inflating: data/obj/train/1580048340614_jpg.rf.83b5517bbfbf2e2ac0b103bec1bd4dfd.txt  \n",
            "  inflating: data/obj/train/1580053154-5839_jpg.rf.54f3c805dfdfed25f320f6a5bba80000.jpg  \n",
            "  inflating: data/obj/train/1580053154-5839_jpg.rf.54f3c805dfdfed25f320f6a5bba80000.txt  \n",
            "  inflating: data/obj/train/1580128422_jpg.rf.4496b0fe4afc307aa32966c8180bab49.jpg  \n",
            "  inflating: data/obj/train/1580128422_jpg.rf.4496b0fe4afc307aa32966c8180bab49.txt  \n",
            "  inflating: data/obj/train/1580166133-5b61094cac11561b0cbe09826e32a924_jpg.rf.fd801022283d5bce8079887db2ef980c.jpg  \n",
            "  inflating: data/obj/train/1580166133-5b61094cac11561b0cbe09826e32a924_jpg.rf.fd801022283d5bce8079887db2ef980c.txt  \n",
            "  inflating: data/obj/train/1580173904-0001oc33f_jpg.rf.e46d2ed9d2510b71264546bc047bf9df.jpg  \n",
            "  inflating: data/obj/train/1580173904-0001oc33f_jpg.rf.e46d2ed9d2510b71264546bc047bf9df.txt  \n",
            "  inflating: data/obj/train/1_13_jpg.rf.042a2d0121bd5b62e8dd83506ea5ffc1.jpg  \n",
            "  inflating: data/obj/train/1_13_jpg.rf.042a2d0121bd5b62e8dd83506ea5ffc1.txt  \n",
            "  inflating: data/obj/train/1_R_kFK9pNLfKAuopY_lAaPQ_jpeg.rf.030922effaedbead963acea666441dbd.jpg  \n",
            "  inflating: data/obj/train/1_R_kFK9pNLfKAuopY_lAaPQ_jpeg.rf.030922effaedbead963acea666441dbd.txt  \n",
            "  inflating: data/obj/train/IMG_5690 2_jpg.rf.7198a97a65ae7dde21284ca6e356f7a8.jpg  \n",
            "  inflating: data/obj/train/IMG_5690 2_jpg.rf.7198a97a65ae7dde21284ca6e356f7a8.txt  \n",
            "  inflating: data/obj/train/PhotoGrid_1580452532909_jpg.rf.d262d228da16f4c2dd6e613288aee5df.jpg  \n",
            "  inflating: data/obj/train/PhotoGrid_1580452532909_jpg.rf.d262d228da16f4c2dd6e613288aee5df.txt  \n",
            "  inflating: data/obj/train/PHOTriZgIKIgsnNLdBJG75vj200203_1000x2000_jpg.rf.4dfc80ae4acc533c6120e47dd8e7fb1f.jpg  \n",
            "  inflating: data/obj/train/PHOTriZgIKIgsnNLdBJG75vj200203_1000x2000_jpg.rf.4dfc80ae4acc533c6120e47dd8e7fb1f.txt  \n",
            "  inflating: data/obj/train/phppaNXxb_jpg.rf.5778b5bbecd03d86b9a529fa381adccf.jpg  \n",
            "  inflating: data/obj/train/phppaNXxb_jpg.rf.5778b5bbecd03d86b9a529fa381adccf.txt  \n",
            "  inflating: data/obj/train/pic_list_out_2285_jpg.rf.397939882d421310a89ac13b244c8a6e.jpg  \n",
            "  inflating: data/obj/train/pic_list_out_2285_jpg.rf.397939882d421310a89ac13b244c8a6e.txt  \n",
            "  inflating: data/obj/train/pjecDNMmCUQmbDoJx1fdqolnfHtpsfFK8jTA2Ng0wNg_jpeg.rf.001be2b5923d35fa3118de329f14f583.jpg  \n",
            "  inflating: data/obj/train/pjecDNMmCUQmbDoJx1fdqolnfHtpsfFK8jTA2Ng0wNg_jpeg.rf.001be2b5923d35fa3118de329f14f583.txt  \n",
            "  inflating: data/obj/train/pollution-mask-CE5HYF_jpg.rf.1d7683c780033e0e32a5ad9d0e1aef33.jpg  \n",
            "  inflating: data/obj/train/pollution-mask-CE5HYF_jpg.rf.1d7683c780033e0e32a5ad9d0e1aef33.txt  \n",
            "  inflating: data/obj/train/PRI_129079114_1580299603_195_jpg.rf.bdee5eb2f33604b0a266cb99611d37a4.jpg  \n",
            "  inflating: data/obj/train/PRI_129079114_1580299603_195_jpg.rf.bdee5eb2f33604b0a266cb99611d37a4.txt  \n",
            "  inflating: data/obj/train/purchase-reauisition-5de4d0f99c77d_jpg.rf.656f7e39f5600537f91019731c9b25fc.jpg  \n",
            "  inflating: data/obj/train/purchase-reauisition-5de4d0f99c77d_jpg.rf.656f7e39f5600537f91019731c9b25fc.txt  \n",
            "  inflating: data/obj/train/r1000019q679o5611r7_jpg.rf.4c8be6ea5c4f336654cb6f5bdb7db393.jpg  \n",
            "  inflating: data/obj/train/r1000019q679o5611r7_jpg.rf.4c8be6ea5c4f336654cb6f5bdb7db393.txt  \n",
            "  inflating: data/obj/train/r1000019q689461s9r0_jpg.rf.a9a68a09d726331332a9a5eb0087e5b9.jpg  \n",
            "  inflating: data/obj/train/r1000019q689461s9r0_jpg.rf.a9a68a09d726331332a9a5eb0087e5b9.txt  \n",
            "  inflating: data/obj/train/r1p00017o80q34s9781_jpg.rf.1ef0de5c875f7e73138d8c9f988eb12e.jpg  \n",
            "  inflating: data/obj/train/r1p00017o80q34s9781_jpg.rf.1ef0de5c875f7e73138d8c9f988eb12e.txt  \n",
            "  inflating: data/obj/train/r1p00017o82psp0o0or_jpg.rf.f0f90c07761eece753f02beac72d5efe.jpg  \n",
            "  inflating: data/obj/train/r1p00017o82psp0o0or_jpg.rf.f0f90c07761eece753f02beac72d5efe.txt  \n",
            "  inflating: data/obj/train/r1p00017o8357s6sno6_jpg.rf.adeceb3bde01bf771fb86d3494cdc1c6.jpg  \n",
            "  inflating: data/obj/train/r1p00017o8357s6sno6_jpg.rf.adeceb3bde01bf771fb86d3494cdc1c6.txt  \n",
            "  inflating: data/obj/train/rally-against-an-anti-mask-law-meant-to-deter-anti-government-protesters-in-hong-kong-china-shutterstock-editorial-10435716z_jpg.rf.c062c7b234046ead0701f794e6311faf.jpg  \n",
            "  inflating: data/obj/train/rally-against-an-anti-mask-law-meant-to-deter-anti-government-protesters-in-hong-kong-china-shutterstock-editorial-10435716z_jpg.rf.c062c7b234046ead0701f794e6311faf.txt  \n",
            "  inflating: data/obj/train/rawImage_jpg.rf.5b637f36f129574b6e0931ecd3f63f7e.jpg  \n",
            "  inflating: data/obj/train/rawImage_jpg.rf.5b637f36f129574b6e0931ecd3f63f7e.txt  \n",
            "  inflating: data/obj/train/remote (1)_jpeg.rf.f2472419ac8ebfc38ba9bb5e215e11f8.jpg  \n",
            "  inflating: data/obj/train/remote (1)_jpeg.rf.f2472419ac8ebfc38ba9bb5e215e11f8.txt  \n",
            "  inflating: data/obj/train/RTX1GIDS_jpg.rf.dcc330d53db202ef81677d14e4e30cd9.jpg  \n",
            "  inflating: data/obj/train/RTX1GIDS_jpg.rf.dcc330d53db202ef81677d14e4e30cd9.txt  \n",
            "  inflating: data/obj/train/RTX7CD4D-e1580252893876_jpg.rf.34b2faf56bf74f6c3edd88422a37355e.jpg  \n",
            "  inflating: data/obj/train/RTX7CD4D-e1580252893876_jpg.rf.34b2faf56bf74f6c3edd88422a37355e.txt  \n",
            "  inflating: data/obj/train/RZXE24HFK5GSVKVSN57VCVPQ4M_jpg.rf.9fa4f828cb9b4ee616446dff730d55f8.jpg  \n",
            "  inflating: data/obj/train/RZXE24HFK5GSVKVSN57VCVPQ4M_jpg.rf.9fa4f828cb9b4ee616446dff730d55f8.txt  \n",
            "  inflating: data/obj/train/sars-gettyimages-157005245_jpg.rf.e6d5283c235edb22b1eb63fc0f8e47e9.jpg  \n",
            "  inflating: data/obj/train/sars-gettyimages-157005245_jpg.rf.e6d5283c235edb22b1eb63fc0f8e47e9.txt  \n",
            "  inflating: data/obj/train/sdfsdfsfff_jpg.rf.de8549155f84a7f30cd5f9f88f6c58b3.jpg  \n",
            "  inflating: data/obj/train/sdfsdfsfff_jpg.rf.de8549155f84a7f30cd5f9f88f6c58b3.txt  \n",
            "  inflating: data/obj/train/sdsdsff_jpg.rf.a8a15416549f7048fee1764231a9d0eb.jpg  \n",
            "  inflating: data/obj/train/sdsdsff_jpg.rf.a8a15416549f7048fee1764231a9d0eb.txt  \n",
            "  inflating: data/obj/train/sgssgg_jpeg.rf.a62f9109a5f44bf8f88b9fd632b8e4de.jpg  \n",
            "  inflating: data/obj/train/sgssgg_jpeg.rf.a62f9109a5f44bf8f88b9fd632b8e4de.txt  \n",
            "  inflating: data/obj/train/shutterstock_289132226_jpg.rf.749c60ddb7bf3d9db9313ff21cb80f77.jpg  \n",
            "  inflating: data/obj/train/shutterstock_289132226_jpg.rf.749c60ddb7bf3d9db9313ff21cb80f77.txt  \n",
            "  inflating: data/obj/train/shutterstock_584407723_jpg.rf.5535c41d1928154d8b5449d970e8a93f.jpg  \n",
            "  inflating: data/obj/train/shutterstock_584407723_jpg.rf.5535c41d1928154d8b5449d970e8a93f.txt  \n",
            "  inflating: data/obj/train/skynews-coronavirus-london-fashion-week_4920359_jpg.rf.cc22ab2e0f2d8f3472a7ddcfa6177fb7.jpg  \n",
            "  inflating: data/obj/train/skynews-coronavirus-london-fashion-week_4920359_jpg.rf.cc22ab2e0f2d8f3472a7ddcfa6177fb7.txt  \n",
            "  inflating: data/obj/train/skypost16012020a01s_jpg.rf.f6eebdde4cc1270b8719743d530adae5.jpg  \n",
            "  inflating: data/obj/train/skypost16012020a01s_jpg.rf.f6eebdde4cc1270b8719743d530adae5.txt  \n",
            "  inflating: data/obj/train/smartmi-3pcs-filter-mask-pm25-haze-dustproof-mask-with-vent_jpg.rf.23ce84d0cd7de25d814655d908bf475d.jpg  \n",
            "  inflating: data/obj/train/smartmi-3pcs-filter-mask-pm25-haze-dustproof-mask-with-vent_jpg.rf.23ce84d0cd7de25d814655d908bf475d.txt  \n",
            "  inflating: data/obj/train/Smog-Mask-PM2-5-Carbon-Filter-Face-Masks-Fog-Dust-Air-Cleaner-anti-pollution-Face-Protector_jpg.rf.6cfed8b6d7c3b9b71b2d6cd8e83da420.jpg  \n",
            "  inflating: data/obj/train/Smog-Mask-PM2-5-Carbon-Filter-Face-Masks-Fog-Dust-Air-Cleaner-anti-pollution-Face-Protector_jpg.rf.6cfed8b6d7c3b9b71b2d6cd8e83da420.txt  \n",
            "  inflating: data/obj/train/so(19)_jpg.rf.97eeeb08001d4cbdb544ac3a57ff5ef3.jpg  \n",
            "  inflating: data/obj/train/so(19)_jpg.rf.97eeeb08001d4cbdb544ac3a57ff5ef3.txt  \n",
            "  inflating: data/obj/train/so(24) (1)_jpg.rf.c3be9c3a5b0a4cfc31163890ef75878a.jpg  \n",
            "  inflating: data/obj/train/so(24) (1)_jpg.rf.c3be9c3a5b0a4cfc31163890ef75878a.txt  \n",
            "  inflating: data/obj/train/soo(1)_jpg.rf.5ccb9b3550a3813e3023a3bb32a53904.jpg  \n",
            "  inflating: data/obj/train/soo(1)_jpg.rf.5ccb9b3550a3813e3023a3bb32a53904.txt  \n",
            "  inflating: data/obj/train/soooo_jpg.rf.6e7754eae524b488b9d6cbacaa578592.jpg  \n",
            "  inflating: data/obj/train/soooo_jpg.rf.6e7754eae524b488b9d6cbacaa578592.txt  \n",
            "  inflating: data/obj/train/stsciRq_png.rf.66178fabcc0b39f7ec45ba1ff1b5d535.jpg  \n",
            "  inflating: data/obj/train/stsciRq_png.rf.66178fabcc0b39f7ec45ba1ff1b5d535.txt  \n",
            "  inflating: data/obj/train/ST_20170401_EASAND_3046471_jpg.rf.ca0eebad80feebefc05d7c52c0f11d65.jpg  \n",
            "  inflating: data/obj/train/ST_20170401_EASAND_3046471_jpg.rf.ca0eebad80feebefc05d7c52c0f11d65.txt  \n",
            "  inflating: data/obj/train/ST_20190917_SPTHAZE_5120715_jpg.rf.a9db11227a9e6e324c5a57d0ad8716cd.jpg  \n",
            "  inflating: data/obj/train/ST_20190917_SPTHAZE_5120715_jpg.rf.a9db11227a9e6e324c5a57d0ad8716cd.txt  \n",
            "  inflating: data/obj/train/Surgical-Mask-Effectiveness_jpg.rf.f1df6e057fc624a11625a316cc488d98.jpg  \n",
            "  inflating: data/obj/train/Surgical-Mask-Effectiveness_jpg.rf.f1df6e057fc624a11625a316cc488d98.txt  \n",
            "  inflating: data/obj/train/TASS38012699_jpg.rf.92600e25dc48c12c43d41929c45756ac.jpg  \n",
            "  inflating: data/obj/train/TASS38012699_jpg.rf.92600e25dc48c12c43d41929c45756ac.txt  \n",
            "  inflating: data/obj/train/TB2R28UvUOWBKNjSZKzXXXfWFXa_!!1116877752_jpg.rf.68b5da162013bf7f4301937f553139a5.jpg  \n",
            "  inflating: data/obj/train/TB2R28UvUOWBKNjSZKzXXXfWFXa_!!1116877752_jpg.rf.68b5da162013bf7f4301937f553139a5.txt  \n",
            "  inflating: data/obj/train/thai_cov-transmission030220_jpg.rf.91be1af29fa03c14769c8547e6b38978.jpg  \n",
            "  inflating: data/obj/train/thai_cov-transmission030220_jpg.rf.91be1af29fa03c14769c8547e6b38978.txt  \n",
            "  inflating: data/obj/train/thumbnail-ba5c72edb320b49a69e86b05775c49b2-scaled-1_jpeg.rf.895025faf5bf05dfb07e227090cb5d56.jpg  \n",
            "  inflating: data/obj/train/thumbnail-ba5c72edb320b49a69e86b05775c49b2-scaled-1_jpeg.rf.895025faf5bf05dfb07e227090cb5d56.txt  \n",
            "  inflating: data/obj/train/UDD3JG3E4JFQ5KSFNGQQ5REINU_jpg.rf.29625775de24b7ffdcccaf143b546669.jpg  \n",
            "  inflating: data/obj/train/UDD3JG3E4JFQ5KSFNGQQ5REINU_jpg.rf.29625775de24b7ffdcccaf143b546669.txt  \n",
            "  inflating: data/obj/train/unnamed_jpg.rf.8bacd81300f96cc2abf8845595a2e160.jpg  \n",
            "  inflating: data/obj/train/unnamed_jpg.rf.8bacd81300f96cc2abf8845595a2e160.txt  \n",
            "  inflating: data/obj/train/Untitled-design-13_png.rf.ff8d68dfee2ede269856144ec3380659.jpg  \n",
            "  inflating: data/obj/train/Untitled-design-13_png.rf.ff8d68dfee2ede269856144ec3380659.txt  \n",
            "  inflating: data/obj/train/upload-productImg-1527496119162_320_234_jpeg.rf.2630f815b6cc48c80dd42bf539300d26.jpg  \n",
            "  inflating: data/obj/train/upload-productImg-1527496119162_320_234_jpeg.rf.2630f815b6cc48c80dd42bf539300d26.txt  \n",
            "  inflating: data/obj/train/US-expands-coronavirus-screenings-United-suspends-some-flights-to-China_jpg.rf.7684e0ecdea4004bc109f5482badee55.jpg  \n",
            "  inflating: data/obj/train/US-expands-coronavirus-screenings-United-suspends-some-flights-to-China_jpg.rf.7684e0ecdea4004bc109f5482badee55.txt  \n",
            "  inflating: data/obj/train/virus_jpg.rf.b9f52d79c98588703b7d55cfc9cd7a78.jpg  \n",
            "  inflating: data/obj/train/virus_jpg.rf.b9f52d79c98588703b7d55cfc9cd7a78.txt  \n",
            "  inflating: data/obj/train/virus_protection123_jpg.rf.b863088fea960d1630687e0d59cbce9a.jpg  \n",
            "  inflating: data/obj/train/virus_protection123_jpg.rf.b863088fea960d1630687e0d59cbce9a.txt  \n",
            "  inflating: data/obj/train/w1240-p16x9-5f8aa310737f8e0e6c43d95a68a82b03b6f60106_jpg.rf.a456219c83b48269ce5adb48d513a350.jpg  \n",
            "  inflating: data/obj/train/w1240-p16x9-5f8aa310737f8e0e6c43d95a68a82b03b6f60106_jpg.rf.a456219c83b48269ce5adb48d513a350.txt  \n",
            "  inflating: data/obj/train/w1240-p16x9-6f1db5e0460631cfa98d2d6d8032942f81700bb0_jpg.rf.c35a2f1369d4d99b16a229d0f0d443e4.jpg  \n",
            "  inflating: data/obj/train/w1240-p16x9-6f1db5e0460631cfa98d2d6d8032942f81700bb0_jpg.rf.c35a2f1369d4d99b16a229d0f0d443e4.txt  \n",
            "  inflating: data/obj/train/W37H3GWNO5EV5HTJQNP4KLIRGI_jpg.rf.71c3c2741aa5f60a7d0a569679b2796c.jpg  \n",
            "  inflating: data/obj/train/W37H3GWNO5EV5HTJQNP4KLIRGI_jpg.rf.71c3c2741aa5f60a7d0a569679b2796c.txt  \n",
            "  inflating: data/obj/train/_darknet.labels  \n"
          ],
          "name": "stdout"
        }
      ]
    },
    {
      "cell_type": "code",
      "metadata": {
        "id": "3KIpWAvFq7Dw"
      },
      "source": [
        "import glob\n",
        "images_list = glob.glob(\"/content/darknet/data/obj/train/*.jpg\")\n",
        "with open(\"data/train.txt\", \"w\") as f:\n",
        "    f.write(\"\\n\".join(images_list))\n"
      ],
      "execution_count": null,
      "outputs": []
    },
    {
      "cell_type": "code",
      "metadata": {
        "colab": {
          "base_uri": "https://localhost:8080/"
        },
        "id": "hwSv4mwVsFFQ",
        "outputId": "f1ad4809-8dda-4e71-db26-36662a80c1c1"
      },
      "source": [
        "!wget https://pjreddie.com/media/files/darknet53.conv.74"
      ],
      "execution_count": null,
      "outputs": [
        {
          "output_type": "stream",
          "text": [
            "--2021-03-30 16:34:00--  https://pjreddie.com/media/files/darknet53.conv.74\n",
            "Resolving pjreddie.com (pjreddie.com)... 128.208.4.108\n",
            "Connecting to pjreddie.com (pjreddie.com)|128.208.4.108|:443... connected.\n",
            "HTTP request sent, awaiting response... 200 OK\n",
            "Length: 162482580 (155M) [application/octet-stream]\n",
            "Saving to: ‘darknet53.conv.74.6’\n",
            "\n",
            "darknet53.conv.74.6 100%[===================>] 154.96M  32.5MB/s    in 5.3s    \n",
            "\n",
            "2021-03-30 16:34:06 (29.2 MB/s) - ‘darknet53.conv.74.6’ saved [162482580/162482580]\n",
            "\n"
          ],
          "name": "stdout"
        }
      ]
    },
    {
      "cell_type": "code",
      "metadata": {
        "id": "cq2JRxWxsFVz"
      },
      "source": [
        "!./darknet detector train data/obj.data cfg/yolov3_training.cfg darknet53.conv.74 -dont_show\n",
        "# Uncomment below and comment above to re-start your training from last saved weights\n",
        "#!./darknet detector train data/obj.data cfg/yolov3_training.cfg /mydrive/yolov3/yolov3_training_last.weights -dont_show"
      ],
      "execution_count": null,
      "outputs": []
    }
  ]
}